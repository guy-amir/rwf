{
 "cells": [
  {
   "cell_type": "code",
   "execution_count": null,
   "metadata": {},
   "outputs": [],
   "source": [
    "#This the main script file it is intended to be minimal and to run all other parts of the code\n",
    "\n",
    "##! UPLOAD EVERTHING TO CUDA!!!\n",
    "##!fix the class cropper\n",
    "##!fix the data flattening \n",
    "##!replace cross entropy with NLL later on\n",
    "\n",
    "#in code from \"visualizing NDF\":\n",
    "##! check out save flag\n",
    "##! check out logger\n",
    "##! check out cache\n",
    "##! check out getting parametrs form command line\n",
    "##! perhaps ra5ndomize target batches\n",
    "##! replace all .cuda() with torch.new\n",
    "##! add grad=False to all not learn\n",
    "##! add batchnorm\n",
    "\n",
    "import torch\n",
    "from functools import partial\n",
    "\n",
    "device = torch.device('cuda',0)\n",
    "torch.cuda.set_device(device)\n",
    "\n",
    "#load configuration\n",
    "from params import parameters\n",
    "conf = parameters()\n",
    "\n",
    "#load dataset\n",
    "import dataset_loader\n",
    "\n",
    "# c = class_counter(conf,datasets=None, n_classes=2)\n",
    "n,m,c = dataset_loader.data_shape(conf, datasets=None, n_classes=2)\n",
    "data = dataset_loader.DataBunch(*dataset_loader.get_dls(conf,n_classes = c),c,features4tree=10)\n",
    "\n",
    "#initialize network\n",
    "import model_conf\n",
    "\n",
    "loss_func = torch.nn.functional.nll_loss ##!replace with NLL later on\n",
    "learn = model_conf.Learner(*model_conf.get_model(conf,data), loss_func, data)\n",
    "\n",
    "#train\n",
    "import trainer\n",
    "from callbacks import *\n",
    "\n",
    "# from trainer import fit\n",
    "# fit(conf,learner)\n",
    "\n",
    "#add callbacks functionallity:\n",
    "cbfs = [Recorder, partial(AvgStatsCallback,accuracy),partial(CudaCallback,device),DeepNeuralForest]\n",
    "# cbfs = [partial(AvgStatsCallback,accuracy),partial(CudaCallback,device)]\n",
    "run = trainer.Runner(cb_funcs=cbfs)\n",
    "run.fit(30, learn)\n",
    "\n",
    "#plot\n",
    "print(\"hi!\")\n",
    "\n",
    "# if __name__ == '__main__':\n",
    "#     main()"
   ]
  },
  {
   "cell_type": "code",
   "execution_count": null,
   "metadata": {},
   "outputs": [],
   "source": []
  }
 ],
 "metadata": {
  "kernelspec": {
   "display_name": "Python 3",
   "language": "python",
   "name": "python3"
  },
  "language_info": {
   "codemirror_mode": {
    "name": "ipython",
    "version": 3
   },
   "file_extension": ".py",
   "mimetype": "text/x-python",
   "name": "python",
   "nbconvert_exporter": "python",
   "pygments_lexer": "ipython3",
   "version": "3.7.3"
  }
 },
 "nbformat": 4,
 "nbformat_minor": 2
}
