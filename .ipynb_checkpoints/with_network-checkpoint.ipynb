{
 "cells": [
  {
   "cell_type": "code",
   "execution_count": null,
   "metadata": {},
   "outputs": [],
   "source": [
    "from func_gen import *\n",
    "import sklearn\n",
    "import torch\n",
    "from params import parameters\n",
    "import model_conf\n",
    "import dataset_loader\n",
    "import trainer\n",
    "\n",
    "conf = parameters()\n",
    "\n",
    "x,y = step_gen(range = (0,10000),step=0.1)\n",
    "tdl,vdl = dl_maker(x,y,conf)\n",
    "data = dataset_loader.DataBunch(tdl,vdl,c=1,features4tree=1)\n",
    "\n",
    "loss_func =  torch.nn.MSELoss()\n",
    "\n",
    "learn = model_conf.Learner(*model_conf.get_model(conf,data), loss_func, data)\n",
    "\n",
    "device = torch.device('cuda',0)\n",
    "torch.cuda.set_device(device)\n",
    "\n",
    "run = trainer.Runner(cb_funcs=conf.cbfs)\n",
    "run.fit(conf.epochs, learn)\n",
    "\n",
    "run.recorder.plot_lr()\n",
    "\n",
    "# from training import trainer\n",
    "# train = trainer(xt,yt)"
   ]
  }
 ],
 "metadata": {
  "kernelspec": {
   "display_name": "Python 3",
   "language": "python",
   "name": "python3"
  },
  "language_info": {
   "codemirror_mode": {
    "name": "ipython",
    "version": 3
   },
   "file_extension": ".py",
   "mimetype": "text/x-python",
   "name": "python",
   "nbconvert_exporter": "python",
   "pygments_lexer": "ipython3",
   "version": "3.7.3"
  }
 },
 "nbformat": 4,
 "nbformat_minor": 2
}
