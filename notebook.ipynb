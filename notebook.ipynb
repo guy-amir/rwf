{
 "cells": [
  {
   "cell_type": "markdown",
   "metadata": {},
   "source": [
    "# Regression Wavelet Forest:"
   ]
  },
  {
   "cell_type": "markdown",
   "metadata": {},
   "source": [
    "In regression wavelet forest, training data is passed through a tree where every node has a small neural network that returns a probability that the sample 'belongs' to this node. The probability at each level is a multlipication of the node on that level and the nodes leading to this level: <br><br>\n",
    "$\\mu_l(x_i) = \\Pi_m\\mu_m(x_i)$\n",
    "<br><br>\n",
    "The valule in each node is determined by a 'vote' of the samples:\n",
    "<br><br>\n",
    "$\\hat{y}=\\sum_i\\mu_l(x_i)y_i$\n",
    "\n",
    "The prediction value is then determined by a 'vote' of the nodes: <br><br>\n",
    "$\\tilde{y_i} = \\sum_l\\mu_l(x_i)\\hat{y}_l$"
   ]
  },
  {
   "cell_type": "code",
   "execution_count": 1,
   "metadata": {},
   "outputs": [],
   "source": [
    "%load_ext autoreload\n",
    "%autoreload 2\n",
    "\n",
    "%matplotlib inline"
   ]
  },
  {
   "cell_type": "code",
   "execution_count": 2,
   "metadata": {},
   "outputs": [
    {
     "ename": "AttributeError",
     "evalue": "'NoneType' object has no attribute 'intervals'",
     "output_type": "error",
     "traceback": [
      "\u001b[0;31m-----------------------------------------\u001b[0m",
      "\u001b[0;31mAttributeError\u001b[0mTraceback (most recent call last)",
      "\u001b[0;32m<ipython-input-2-6430c81bcbc6>\u001b[0m in \u001b[0;36m<module>\u001b[0;34m\u001b[0m\n\u001b[1;32m     26\u001b[0m \u001b[0mtorch\u001b[0m\u001b[0;34m.\u001b[0m\u001b[0mcuda\u001b[0m\u001b[0;34m.\u001b[0m\u001b[0mset_device\u001b[0m\u001b[0;34m(\u001b[0m\u001b[0mdevice\u001b[0m\u001b[0;34m)\u001b[0m\u001b[0;34m\u001b[0m\u001b[0;34m\u001b[0m\u001b[0m\n\u001b[1;32m     27\u001b[0m \u001b[0;34m\u001b[0m\u001b[0m\n\u001b[0;32m---> 28\u001b[0;31m \u001b[0mrun\u001b[0m \u001b[0;34m=\u001b[0m \u001b[0mtrainer\u001b[0m\u001b[0;34m.\u001b[0m\u001b[0mRunner\u001b[0m\u001b[0;34m(\u001b[0m\u001b[0mcb_funcs\u001b[0m\u001b[0;34m=\u001b[0m\u001b[0mconf\u001b[0m\u001b[0;34m.\u001b[0m\u001b[0mcbfs\u001b[0m\u001b[0;34m,\u001b[0m\u001b[0mconf\u001b[0m\u001b[0;34m=\u001b[0m\u001b[0;32mNone\u001b[0m\u001b[0;34m)\u001b[0m\u001b[0;34m\u001b[0m\u001b[0;34m\u001b[0m\u001b[0m\n\u001b[0m\u001b[1;32m     29\u001b[0m \u001b[0mrun\u001b[0m\u001b[0;34m.\u001b[0m\u001b[0mfit\u001b[0m\u001b[0;34m(\u001b[0m\u001b[0mconf\u001b[0m\u001b[0;34m.\u001b[0m\u001b[0mepochs\u001b[0m\u001b[0;34m,\u001b[0m \u001b[0mlearn\u001b[0m\u001b[0;34m)\u001b[0m\u001b[0;34m\u001b[0m\u001b[0;34m\u001b[0m\u001b[0m\n",
      "\u001b[0;32m~/Documents/phd/code/rwf/trainer.py\u001b[0m in \u001b[0;36m__init__\u001b[0;34m(self, cbs, cb_funcs, conf)\u001b[0m\n\u001b[1;32m     14\u001b[0m             \u001b[0mcbs\u001b[0m\u001b[0;34m.\u001b[0m\u001b[0mappend\u001b[0m\u001b[0;34m(\u001b[0m\u001b[0mcb\u001b[0m\u001b[0;34m)\u001b[0m\u001b[0;34m\u001b[0m\u001b[0;34m\u001b[0m\u001b[0m\n\u001b[1;32m     15\u001b[0m         \u001b[0mself\u001b[0m\u001b[0;34m.\u001b[0m\u001b[0mstop\u001b[0m\u001b[0;34m,\u001b[0m\u001b[0mself\u001b[0m\u001b[0;34m.\u001b[0m\u001b[0mcbs\u001b[0m \u001b[0;34m=\u001b[0m \u001b[0;32mFalse\u001b[0m\u001b[0;34m,\u001b[0m\u001b[0;34m[\u001b[0m\u001b[0mTrainEvalCallback\u001b[0m\u001b[0;34m(\u001b[0m\u001b[0;34m)\u001b[0m\u001b[0;34m]\u001b[0m\u001b[0;34m+\u001b[0m\u001b[0mcbs\u001b[0m\u001b[0;34m\u001b[0m\u001b[0;34m\u001b[0m\u001b[0m\n\u001b[0;32m---> 16\u001b[0;31m         \u001b[0mself\u001b[0m\u001b[0;34m.\u001b[0m\u001b[0mintervals\u001b[0m \u001b[0;34m=\u001b[0m \u001b[0mconf\u001b[0m\u001b[0;34m.\u001b[0m\u001b[0mintervals\u001b[0m\u001b[0;34m\u001b[0m\u001b[0;34m\u001b[0m\u001b[0m\n\u001b[0m\u001b[1;32m     17\u001b[0m \u001b[0;34m\u001b[0m\u001b[0m\n\u001b[1;32m     18\u001b[0m     \u001b[0;34m@\u001b[0m\u001b[0mproperty\u001b[0m\u001b[0;34m\u001b[0m\u001b[0;34m\u001b[0m\u001b[0m\n",
      "\u001b[0;31mAttributeError\u001b[0m: 'NoneType' object has no attribute 'intervals'"
     ]
    }
   ],
   "source": [
    "from func_gen import *\n",
    "import sklearn\n",
    "import torch\n",
    "from params import parameters\n",
    "import model_conf\n",
    "import dataset_loader\n",
    "import trainer\n",
    "import matplotlib.pyplot as plt\n",
    "\n",
    "conf = parameters()\n",
    "\n",
    "x,y = step_gen(range = (0,60),step=0.1)\n",
    "tdl,vdl = dl_maker(x,y,conf)\n",
    "data = dataset_loader.DataBunch(tdl,vdl,c=1,features4tree=1)\n",
    "\n",
    "loss_func =  torch.nn.MSELoss()\n",
    "\n",
    "#########################################################\n",
    "conf.tree_depth = 10\n",
    "conf.epochs = 300\n",
    "#########################################################\n",
    "\n",
    "learn = model_conf.Learner(*model_conf.get_model(conf,data), loss_func, data)\n",
    "\n",
    "device = torch.device('cuda',0)\n",
    "torch.cuda.set_device(device)\n",
    "\n",
    "run = trainer.Runner(cb_funcs=conf.cbfs,conf=None)\n",
    "run.fit(conf.epochs, learn)"
   ]
  },
  {
   "cell_type": "code",
   "execution_count": null,
   "metadata": {},
   "outputs": [],
   "source": [
    "xx = learn.data.valid_dl.ds.x.numpy()\n",
    "yy = learn.data.valid_dl.ds.y.numpy()\n",
    "zz = run.recorder.tot_pred.cpu().numpy()\n",
    "plt.scatter(xx, yy, marker='^')\n",
    "plt.scatter(xx, zz, marker='*')\n"
   ]
  },
  {
   "cell_type": "code",
   "execution_count": null,
   "metadata": {},
   "outputs": [],
   "source": [
    "for i in range(2,7):\n",
    "    conf.tree_depth = 2*i\n",
    "    learn = model_conf.Learner(*model_conf.get_model(conf,data), loss_func, data)\n",
    "    run.fit(conf.epochs, learn)\n",
    "    zz = run.recorder.tot_pred.cpu().numpy()\n",
    "    plt.scatter(xx, zz, marker='*')\n",
    "\n",
    "plt.show()"
   ]
  },
  {
   "cell_type": "code",
   "execution_count": null,
   "metadata": {
    "scrolled": true
   },
   "outputs": [],
   "source": [
    "from func_gen import *\n",
    "import sklearn\n",
    "import torch\n",
    "from params import parameters\n",
    "import model_conf\n",
    "import dataset_loader\n",
    "import trainer\n",
    "\n",
    "conf = parameters()\n",
    "conf.epochs = 100\n",
    "conf.tree_depth = 15\n",
    "conf.one_batch = True\n",
    "x,y = step_gen(range = (0,100),step=0.1)\n",
    "tdl,vdl = dl_maker(x,y,conf)\n",
    "data = dataset_loader.DataBunch(tdl,vdl,c=1,features4tree=1)\n",
    "\n",
    "loss_func =  torch.nn.MSELoss()\n",
    "\n",
    "learn = model_conf.Learner(*model_conf.get_model(conf,data), loss_func, data)\n",
    "\n",
    "device = torch.device('cuda',0)\n",
    "torch.cuda.set_device(device)\n",
    "\n",
    "run = trainer.Runner(cb_funcs=conf.cbfs)\n",
    "run.fit(conf.epochs, learn)"
   ]
  },
  {
   "cell_type": "code",
   "execution_count": null,
   "metadata": {},
   "outputs": [],
   "source": [
    "import matplotlib.pyplot as plt\n",
    "mu = run.mu\n",
    "y_hat = run.y_hat\n",
    "arg_mu = torch.argmax(mu, dim=1).cpu().numpy()\n",
    "uni_mu = np.unique(arg_mu)\n",
    "yh = y_hat[arg_mu].detach().cpu().numpy()\n",
    "yh_orig = y_hat.detach().cpu().numpy()\n",
    "plt.hist(arg_mu,bins=30)\n",
    "\n",
    "uni_mu_dist = mu[:,uni_mu].cpu().numpy()\n",
    "\n",
    "xx = learn.data.valid_dl.ds.x.numpy()\n",
    "yy = learn.data.valid_dl.ds.y.numpy()\n",
    "zz = run.recorder.tot_pred.cpu().numpy()\n",
    "\n",
    "plt.scatter(xx, yh, marker='^')\n",
    "plt.scatter(xx, yy, marker='*')\n",
    "plt.scatter(xx, zz, marker='o')\n",
    "plt.show()\n",
    "\n",
    "for i in range(6):\n",
    "    plt.scatter(xx, uni_mu_dist.T[i], marker='^')\n",
    "\n",
    "plt.show()"
   ]
  },
  {
   "cell_type": "markdown",
   "metadata": {},
   "source": [
    "### Loss vs. No. of batch iterations:"
   ]
  },
  {
   "cell_type": "code",
   "execution_count": null,
   "metadata": {
    "scrolled": true
   },
   "outputs": [],
   "source": [
    "run.recorder.plot_loss()"
   ]
  },
  {
   "cell_type": "code",
   "execution_count": null,
   "metadata": {},
   "outputs": [],
   "source": [
    "import matplotlib.pyplot as plt\n",
    "import numpy as np\n",
    "\n",
    "xx = learn.data.valid_dl.ds.x.numpy()\n",
    "yy = learn.data.valid_dl.ds.y.numpy()\n",
    "zz = run.recorder.tot_pred.cpu().numpy()\n",
    "\n",
    "plt.scatter(xx, yy, marker='^')\n",
    "plt.scatter(xx, zz, marker='*')\n",
    "\n",
    "plt.show()"
   ]
  },
  {
   "cell_type": "code",
   "execution_count": null,
   "metadata": {
    "scrolled": true
   },
   "outputs": [],
   "source": [
    "conf.epochs = 100\n",
    "conf.one_batch = True\n",
    "tdl,vdl = dl_maker(x,y,conf)\n",
    "data = dataset_loader.DataBunch(tdl,vdl,c=1,features4tree=1)\n",
    "\n",
    "loss_func =  torch.nn.MSELoss()\n",
    "\n",
    "learn = model_conf.Learner(*model_conf.get_model(conf,data), loss_func, data)\n",
    "\n",
    "device = torch.device('cuda',0)\n",
    "torch.cuda.set_device(device)\n",
    "\n",
    "run = trainer.Runner(cb_funcs=conf.cbfs)\n",
    "run.fit(conf.epochs, learn)"
   ]
  },
  {
   "cell_type": "code",
   "execution_count": null,
   "metadata": {},
   "outputs": [],
   "source": [
    "run.recorder.plot_loss()"
   ]
  },
  {
   "cell_type": "code",
   "execution_count": null,
   "metadata": {},
   "outputs": [],
   "source": [
    "import matplotlib.pyplot as plt\n",
    "import numpy as np\n",
    "\n",
    "xx = learn.data.valid_dl.ds.x.numpy()\n",
    "yy = learn.data.valid_dl.ds.y.numpy()\n",
    "zz = run.recorder.tot_pred.cpu().numpy()\n",
    "\n",
    "plt.scatter(xx, yy, marker='^')\n",
    "plt.scatter(xx, zz, marker='*')\n",
    "\n",
    "plt.show()"
   ]
  },
  {
   "cell_type": "code",
   "execution_count": null,
   "metadata": {},
   "outputs": [],
   "source": [
    "# conf.epochs = 1000\n",
    "# run.fit(conf.epochs, learn)\n",
    "\n",
    "# import matplotlib.pyplot as plt\n",
    "# import numpy as np\n",
    "\n",
    "# xx = learn.data.valid_dl.ds.x.numpy()\n",
    "# yy = learn.data.valid_dl.ds.y.numpy()\n",
    "# zz = run.recorder.tot_pred.cpu().numpy()\n",
    "\n",
    "# plt.scatter(xx, yy, marker='^')\n",
    "# plt.scatter(xx, zz, marker='*')\n",
    "\n",
    "# plt.show()"
   ]
  },
  {
   "cell_type": "code",
   "execution_count": null,
   "metadata": {},
   "outputs": [],
   "source": [
    "conf.epochs = 100"
   ]
  },
  {
   "cell_type": "code",
   "execution_count": null,
   "metadata": {},
   "outputs": [],
   "source": [
    "mu = run.mu_leaves\n",
    "y_hat = run.y_hat_leaves"
   ]
  },
  {
   "cell_type": "code",
   "execution_count": null,
   "metadata": {
    "scrolled": true
   },
   "outputs": [],
   "source": [
    "arg_mu = torch.argmax(mu, dim=1).cpu().numpy()\n",
    "uni_mu = np.unique(arg_mu)\n",
    "arg_mu"
   ]
  },
  {
   "cell_type": "markdown",
   "metadata": {},
   "source": [
    "### Distribution of most popular leafs:"
   ]
  },
  {
   "cell_type": "code",
   "execution_count": null,
   "metadata": {},
   "outputs": [],
   "source": [
    "plt.hist(arg_mu,bins=30)"
   ]
  },
  {
   "cell_type": "markdown",
   "metadata": {},
   "source": [
    "### values of most popular leafs:"
   ]
  },
  {
   "cell_type": "code",
   "execution_count": null,
   "metadata": {},
   "outputs": [],
   "source": [
    "yh_orig[uni_mu]"
   ]
  },
  {
   "cell_type": "code",
   "execution_count": null,
   "metadata": {},
   "outputs": [],
   "source": [
    "yh = y_hat[arg_mu].detach().cpu().numpy()\n",
    "yh_orig = y_hat.detach().cpu().numpy()"
   ]
  },
  {
   "cell_type": "markdown",
   "metadata": {},
   "source": [
    "### Value of samples by most popular leaf:"
   ]
  },
  {
   "cell_type": "code",
   "execution_count": null,
   "metadata": {
    "scrolled": true
   },
   "outputs": [],
   "source": [
    "plt.scatter(xx, yh, marker='^')\n",
    "# plt.scatter(xx, yy, marker='*')\n",
    "# plt.scatter(xx, zz, marker='o')\n",
    "plt.show()"
   ]
  },
  {
   "cell_type": "code",
   "execution_count": null,
   "metadata": {},
   "outputs": [],
   "source": [
    "conf.epochs = 100\n",
    "conf.tree_depth = 20\n",
    "\n",
    "learn = model_conf.Learner(*model_conf.get_model(conf,data), loss_func, data)\n",
    "\n",
    "run.fit(conf.epochs, learn)\n",
    "\n",
    "import matplotlib.pyplot as plt\n",
    "import numpy as np\n",
    "\n",
    "xx = learn.data.valid_dl.ds.x.numpy()\n",
    "yy = learn.data.valid_dl.ds.y.numpy()\n",
    "zz = run.recorder.tot_pred.cpu().numpy()\n",
    "\n",
    "plt.scatter(xx, yy, marker='^')\n",
    "plt.scatter(xx, zz, marker='*')\n",
    "\n",
    "plt.show()"
   ]
  },
  {
   "cell_type": "code",
   "execution_count": null,
   "metadata": {},
   "outputs": [],
   "source": [
    "uni_mu"
   ]
  },
  {
   "cell_type": "code",
   "execution_count": null,
   "metadata": {},
   "outputs": [],
   "source": [
    "uni_mu_dist = mu[:,uni_mu].cpu().numpy()"
   ]
  },
  {
   "cell_type": "code",
   "execution_count": null,
   "metadata": {},
   "outputs": [],
   "source": [
    "uni_mu_dist.T"
   ]
  },
  {
   "cell_type": "markdown",
   "metadata": {},
   "source": [
    "### Distribution of most popular nodes over all samples:"
   ]
  },
  {
   "cell_type": "code",
   "execution_count": null,
   "metadata": {
    "scrolled": true
   },
   "outputs": [],
   "source": [
    "for i in range(4):\n",
    "    plt.scatter(xx, uni_mu_dist.T[i], marker='^')\n",
    "\n",
    "plt.show()"
   ]
  },
  {
   "cell_type": "code",
   "execution_count": null,
   "metadata": {},
   "outputs": [],
   "source": [
    "mu.size()"
   ]
  },
  {
   "cell_type": "code",
   "execution_count": null,
   "metadata": {},
   "outputs": [],
   "source": [
    "len(yh_orig)"
   ]
  },
  {
   "cell_type": "markdown",
   "metadata": {},
   "source": [
    "### Distribution of arbitrary samples over nodes:"
   ]
  },
  {
   "cell_type": "code",
   "execution_count": null,
   "metadata": {
    "scrolled": true
   },
   "outputs": [],
   "source": [
    "for i in range(10):\n",
    "    j = i*33\n",
    "    plt.scatter(j+100*mu[i*33,:].cpu().numpy(),np.arange(0,64), marker='*')\n",
    "\n",
    "plt.show()"
   ]
  },
  {
   "cell_type": "markdown",
   "metadata": {},
   "source": [
    "### Value of nodes of arbitrary samples vs. probability:"
   ]
  },
  {
   "cell_type": "code",
   "execution_count": null,
   "metadata": {},
   "outputs": [],
   "source": [
    "for i in range(10):\n",
    "    j = i*33\n",
    "    plt.scatter(mu[i*33,:].cpu().numpy(),yh_orig, marker='*')\n",
    "\n",
    "plt.show()"
   ]
  },
  {
   "cell_type": "code",
   "execution_count": null,
   "metadata": {},
   "outputs": [],
   "source": [
    "plt.scatter(xx, yh, marker='^')\n",
    "plt.scatter(xx, yy, marker='*')\n",
    "plt.scatter(xx, zz, marker='o')\n",
    "plt.show()"
   ]
  },
  {
   "cell_type": "code",
   "execution_count": null,
   "metadata": {},
   "outputs": [],
   "source": []
  }
 ],
 "metadata": {
  "kernelspec": {
   "display_name": "Python 3",
   "language": "python",
   "name": "python3"
  },
  "language_info": {
   "codemirror_mode": {
    "name": "ipython",
    "version": 3
   },
   "file_extension": ".py",
   "mimetype": "text/x-python",
   "name": "python",
   "nbconvert_exporter": "python",
   "pygments_lexer": "ipython3",
   "version": "3.7.3"
  }
 },
 "nbformat": 4,
 "nbformat_minor": 2
}
