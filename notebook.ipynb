{
 "cells": [
  {
   "cell_type": "markdown",
   "metadata": {},
   "source": [
    "# Regression Wavelet Forest:"
   ]
  },
  {
   "cell_type": "markdown",
   "metadata": {},
   "source": [
    "In regression wavelet forest, training data is passed through a tree where every node has a small neural network that returns a probability that the sample 'belongs' to this node. The probability at each level is a multlipication of the node on that level and the nodes leading to this level: <br><br>\n",
    "$\\mu_l(x_i) = \\Pi_m\\mu_m(x_i)$\n",
    "<br><br>\n",
    "The valule in each node is determined by a 'vote' of the samples:\n",
    "<br><br>\n",
    "$\\hat{y}=\\sum_i\\mu_l(x_i)y_i$\n",
    "\n",
    "The prediction value is then determined by a 'vote' of the nodes: <br><br>\n",
    "$\\tilde{y_i} = \\sum_l\\mu_l(x_i)\\hat{y}_l$"
   ]
  },
  {
   "cell_type": "code",
   "execution_count": 5,
   "metadata": {},
   "outputs": [
    {
     "name": "stdout",
     "output_type": "stream",
     "text": [
      "The autoreload extension is already loaded. To reload it, use:\n",
      "  %reload_ext autoreload\n"
     ]
    }
   ],
   "source": [
    "%load_ext autoreload\n",
    "%autoreload 2\n",
    "\n",
    "%matplotlib inline"
   ]
  },
  {
   "cell_type": "code",
   "execution_count": 1,
   "metadata": {},
   "outputs": [
    {
     "name": "stdout",
     "output_type": "stream",
     "text": [
      "train: [0.13942347474359162, tensor(0.1394, device='cuda:0')]\n",
      "valid: [0.2113668846361565, tensor(0.2114, device='cuda:0')]\n",
      "train: [0.203267187621463, tensor(0.2033, device='cuda:0')]\n",
      "valid: [0.2109176366016118, tensor(0.2109, device='cuda:0')]\n",
      "train: [0.19236751575375077, tensor(0.1924, device='cuda:0')]\n",
      "valid: [0.19992331302527225, tensor(0.1999, device='cuda:0')]\n",
      "train: [0.1517025866911779, tensor(0.1517, device='cuda:0')]\n",
      "valid: [0.1654993693033854, tensor(0.1655, device='cuda:0')]\n",
      "train: [0.12802699074816348, tensor(0.1280, device='cuda:0')]\n",
      "valid: [0.14200554472027402, tensor(0.1420, device='cuda:0')]\n",
      "train: [0.12091068248843673, tensor(0.1209, device='cuda:0')]\n",
      "valid: [0.12653377802685054, tensor(0.1265, device='cuda:0')]\n",
      "train: [0.11551429976278277, tensor(0.1155, device='cuda:0')]\n",
      "valid: [0.11527339858238143, tensor(0.1153, device='cuda:0')]\n",
      "train: [0.10874883926923003, tensor(0.1087, device='cuda:0')]\n",
      "valid: [0.10956770001035748, tensor(0.1096, device='cuda:0')]\n",
      "train: [0.10132354053098765, tensor(0.1013, device='cuda:0')]\n",
      "valid: [0.10909952298559324, tensor(0.1091, device='cuda:0')]\n",
      "train: [0.09327494682957284, tensor(0.0933, device='cuda:0')]\n",
      "valid: [0.10616244691790956, tensor(0.1062, device='cuda:0')]\n",
      "train: [0.08711756995661342, tensor(0.0871, device='cuda:0')]\n",
      "valid: [0.11231934903848051, tensor(0.1123, device='cuda:0')]\n",
      "train: [0.08226249467081098, tensor(0.0823, device='cuda:0')]\n",
      "valid: [0.12865387309681287, tensor(0.1287, device='cuda:0')]\n",
      "train: [0.0794011490855051, tensor(0.0794, device='cuda:0')]\n",
      "valid: [0.10013803809580177, tensor(0.1001, device='cuda:0')]\n",
      "train: [0.07683025189300081, tensor(0.0768, device='cuda:0')]\n",
      "valid: [0.12225768542048907, tensor(0.1223, device='cuda:0')]\n",
      "train: [0.07103924253093663, tensor(0.0710, device='cuda:0')]\n",
      "valid: [0.11157794913860282, tensor(0.1116, device='cuda:0')]\n",
      "train: [0.06798944425820118, tensor(0.0680, device='cuda:0')]\n",
      "valid: [0.07089881704311178, tensor(0.0709, device='cuda:0')]\n",
      "train: [0.06566127378549148, tensor(0.0657, device='cuda:0')]\n",
      "valid: [0.0746631333322236, tensor(0.0747, device='cuda:0')]\n",
      "train: [0.06236630055441785, tensor(0.0624, device='cuda:0')]\n",
      "valid: [0.096940030955305, tensor(0.0969, device='cuda:0')]\n",
      "train: [0.06274584869840252, tensor(0.0627, device='cuda:0')]\n",
      "valid: [0.06906755042798592, tensor(0.0691, device='cuda:0')]\n",
      "train: [0.060174102213845324, tensor(0.0602, device='cuda:0')]\n",
      "valid: [0.06857741481125956, tensor(0.0686, device='cuda:0')]\n",
      "train: [0.06027002476934177, tensor(0.0603, device='cuda:0')]\n",
      "valid: [0.06669196697196575, tensor(0.0667, device='cuda:0')]\n",
      "train: [0.05932694050803113, tensor(0.0593, device='cuda:0')]\n",
      "valid: [0.08061286174889767, tensor(0.0806, device='cuda:0')]\n",
      "train: [0.0584017151030735, tensor(0.0584, device='cuda:0')]\n",
      "valid: [0.0938259856869476, tensor(0.0938, device='cuda:0')]\n",
      "train: [0.058819196710539104, tensor(0.0588, device='cuda:0')]\n",
      "valid: [0.06622323604545208, tensor(0.0662, device='cuda:0')]\n",
      "train: [0.05743825257714115, tensor(0.0574, device='cuda:0')]\n",
      "valid: [0.06328716181745433, tensor(0.0633, device='cuda:0')]\n",
      "train: [0.057031982573703746, tensor(0.0570, device='cuda:0')]\n",
      "valid: [0.06394981615471118, tensor(0.0639, device='cuda:0')]\n",
      "train: [0.05642632821306067, tensor(0.0564, device='cuda:0')]\n",
      "valid: [0.0932545324768683, tensor(0.0933, device='cuda:0')]\n",
      "train: [0.05524470201179163, tensor(0.0552, device='cuda:0')]\n",
      "valid: [0.13316108241225733, tensor(0.1332, device='cuda:0')]\n",
      "train: [0.05457744313709771, tensor(0.0546, device='cuda:0')]\n",
      "valid: [0.15142028500335386, tensor(0.1514, device='cuda:0')]\n",
      "train: [0.054280931083717156, tensor(0.0543, device='cuda:0')]\n",
      "valid: [0.14283734138565835, tensor(0.1428, device='cuda:0')]\n",
      "\n",
      " cuttoff value is: 5\n",
      "loss is 0.19713141024112701\n",
      "acc is 0.19713141024112701\n",
      "\n",
      " cuttoff value is: 10\n",
      "loss is 0.19738149642944336\n",
      "acc is 0.19738149642944336\n",
      "\n",
      " cuttoff value is: 15\n",
      "loss is 0.19403818249702454\n",
      "acc is 0.19403818249702454\n",
      "\n",
      " cuttoff value is: 20\n",
      "loss is 0.13991306722164154\n",
      "acc is 0.13991308212280273\n",
      "\n",
      " cuttoff value is: 25\n",
      "loss is 0.15074586868286133\n",
      "acc is 0.15074586868286133\n",
      "\n",
      " cuttoff value is: 30\n",
      "loss is 0.16899403929710388\n",
      "acc is 0.16899403929710388\n",
      "\n",
      " cuttoff value is: 35\n",
      "loss is 0.25409814715385437\n",
      "acc is 0.25409817695617676\n",
      "\n",
      " cuttoff value is: 40\n",
      "loss is 0.40830135345458984\n",
      "acc is 0.40830135345458984\n",
      "\n",
      " cuttoff value is: 45\n",
      "loss is 0.40830135345458984\n",
      "acc is 0.40830135345458984\n",
      "\n",
      " cuttoff value is: 50\n",
      "loss is 0.2938481867313385\n",
      "acc is 0.2938481867313385\n",
      "\n",
      " cuttoff value is: 55\n",
      "loss is 0.22754724323749542\n",
      "acc is 0.22754722833633423\n",
      "\n",
      " cuttoff value is: 60\n",
      "loss is 0.19321200251579285\n",
      "acc is 0.19321200251579285\n",
      "\n",
      " cuttoff value is: 65\n",
      "loss is 0.2072744518518448\n",
      "acc is 0.2072744220495224\n",
      "\n",
      " cuttoff value is: 70\n",
      "loss is 0.2096146047115326\n",
      "acc is 0.2096146047115326\n"
     ]
    }
   ],
   "source": [
    "from func_gen import *\n",
    "import sklearn\n",
    "import torch\n",
    "from params import parameters\n",
    "import model_conf\n",
    "import dataset_loader\n",
    "import trainer\n",
    "\n",
    "conf = parameters()\n",
    "\n",
    "x,y = step_gen(range = (0,60),step=0.1)\n",
    "tdl,vdl = dl_maker(x,y,conf)\n",
    "data = dataset_loader.DataBunch(tdl,vdl,c=1,features4tree=1)\n",
    "\n",
    "loss_func =  torch.nn.MSELoss()\n",
    "\n",
    "learn = model_conf.Learner(*model_conf.get_model(conf,data), loss_func, data)\n",
    "\n",
    "device = torch.device('cuda',0)\n",
    "torch.cuda.set_device(device)\n",
    "\n",
    "run = trainer.Runner(cb_funcs=conf.cbfs,conf=None)\n",
    "run.fit(conf.epochs, learn)\n",
    "\n",
    "run.recorder.plot_lr()\n",
    "\n",
    "# from training import trainer\n",
    "# train = trainer(xt,yt)"
   ]
  },
  {
   "cell_type": "code",
   "execution_count": 3,
   "metadata": {},
   "outputs": [
    {
     "name": "stdout",
     "output_type": "stream",
     "text": [
      "train: [1.4390623178055038, tensor(1.4391, device='cuda:0')]\n",
      "valid: [1.554067900686553, tensor(1.5541, device='cuda:0')]\n",
      "train: [1.4773025740438432, tensor(1.4773, device='cuda:0')]\n",
      "valid: [1.4727134935783617, tensor(1.4727, device='cuda:0')]\n",
      "train: [1.3335277955923508, tensor(1.3335, device='cuda:0')]\n",
      "valid: [1.2310014204545454, tensor(1.2310, device='cuda:0')]\n",
      "train: [1.1463794309701492, tensor(1.1464, device='cuda:0')]\n",
      "valid: [0.9672079375295928, tensor(0.9672, device='cuda:0')]\n",
      "train: [0.9416234258395523, tensor(0.9416, device='cuda:0')]\n",
      "valid: [0.7458104913884943, tensor(0.7458, device='cuda:0')]\n",
      "train: [0.7993256981693097, tensor(0.7993, device='cuda:0')]\n",
      "valid: [0.6427506880326704, tensor(0.6428, device='cuda:0')]\n",
      "train: [0.6938021076259329, tensor(0.6938, device='cuda:0')]\n",
      "valid: [0.5802009813713305, tensor(0.5802, device='cuda:0')]\n",
      "train: [0.5558211597044076, tensor(0.5558, device='cuda:0')]\n",
      "valid: [0.562019903009588, tensor(0.5620, device='cuda:0')]\n",
      "train: [0.5025834268598414, tensor(0.5026, device='cuda:0')]\n",
      "valid: [0.7061298717151988, tensor(0.7061, device='cuda:0')]\n",
      "train: [0.464166259765625, tensor(0.4642, device='cuda:0')]\n",
      "valid: [0.5901799982244318, tensor(0.5902, device='cuda:0')]\n",
      "train: [0.7219548011893657, tensor(0.7220, device='cuda:0')]\n",
      "valid: [0.6158364035866477, tensor(0.6158, device='cuda:0')]\n",
      "train: [0.39962581805328823, tensor(0.3996, device='cuda:0')]\n",
      "valid: [0.5597161032936789, tensor(0.5597, device='cuda:0')]\n",
      "train: [0.3922085890129431, tensor(0.3922, device='cuda:0')]\n",
      "valid: [0.42083111387310607, tensor(0.4208, device='cuda:0')]\n",
      "train: [0.3834010793201959, tensor(0.3834, device='cuda:0')]\n",
      "valid: [0.3746600757945668, tensor(0.3747, device='cuda:0')]\n",
      "train: [0.3584013981605644, tensor(0.3584, device='cuda:0')]\n",
      "valid: [0.3659628434614702, tensor(0.3660, device='cuda:0')]\n",
      "train: [0.3520528992610191, tensor(0.3521, device='cuda:0')]\n",
      "valid: [0.374869560472893, tensor(0.3749, device='cuda:0')]\n",
      "train: [0.37002429108121504, tensor(0.3700, device='cuda:0')]\n",
      "valid: [0.37937682180693655, tensor(0.3794, device='cuda:0')]\n",
      "train: [0.37367082282678404, tensor(0.3737, device='cuda:0')]\n",
      "valid: [0.38030890262488165, tensor(0.3803, device='cuda:0')]\n",
      "train: [0.35993697892374066, tensor(0.3599, device='cuda:0')]\n",
      "valid: [0.39403011437618374, tensor(0.3940, device='cuda:0')]\n",
      "train: [0.3478154652154268, tensor(0.3478, device='cuda:0')]\n",
      "valid: [0.4175893610174006, tensor(0.4176, device='cuda:0')]\n",
      "train: [0.3440813206914646, tensor(0.3441, device='cuda:0')]\n",
      "valid: [0.4461787830699574, tensor(0.4462, device='cuda:0')]\n",
      "train: [0.34446536391528687, tensor(0.3445, device='cuda:0')]\n",
      "valid: [0.4798311175722064, tensor(0.4798, device='cuda:0')]\n",
      "train: [0.3450109681086754, tensor(0.3450, device='cuda:0')]\n",
      "valid: [0.5125360662286932, tensor(0.5125, device='cuda:0')]\n",
      "train: [0.34469911945399956, tensor(0.3447, device='cuda:0')]\n",
      "valid: [0.5403126572117661, tensor(0.5403, device='cuda:0')]\n",
      "train: [0.34315310805591187, tensor(0.3432, device='cuda:0')]\n",
      "valid: [0.5643571795839252, tensor(0.5644, device='cuda:0')]\n",
      "train: [0.3400462591826026, tensor(0.3400, device='cuda:0')]\n",
      "valid: [0.587830283425071, tensor(0.5878, device='cuda:0')]\n",
      "train: [0.3350628069977262, tensor(0.3351, device='cuda:0')]\n",
      "valid: [0.6136979998964252, tensor(0.6137, device='cuda:0')]\n",
      "train: [0.3276715178987873, tensor(0.3277, device='cuda:0')]\n",
      "valid: [0.645063643022017, tensor(0.6451, device='cuda:0')]\n",
      "train: [0.3175487005888526, tensor(0.3175, device='cuda:0')]\n",
      "valid: [0.6810623631332859, tensor(0.6811, device='cuda:0')]\n",
      "train: [0.3048950650798741, tensor(0.3049, device='cuda:0')]\n",
      "valid: [0.7187111594460227, tensor(0.7187, device='cuda:0')]\n",
      "train: [0.2907982669659515, tensor(0.2908, device='cuda:0')]\n",
      "valid: [0.7536190610943418, tensor(0.7536, device='cuda:0')]\n",
      "train: [0.27700334235803403, tensor(0.2770, device='cuda:0')]\n",
      "valid: [0.7821154045336174, tensor(0.7821, device='cuda:0')]\n",
      "train: [0.2645906818446828, tensor(0.2646, device='cuda:0')]\n",
      "valid: [0.8026388457327178, tensor(0.8026, device='cuda:0')]\n",
      "train: [0.25367759590718286, tensor(0.2537, device='cuda:0')]\n",
      "valid: [0.8152536103219697, tensor(0.8153, device='cuda:0')]\n",
      "train: [0.2433352342292444, tensor(0.2433, device='cuda:0')]\n",
      "valid: [0.82166923754143, tensor(0.8217, device='cuda:0')]\n",
      "train: [0.23272199488397854, tensor(0.2327, device='cuda:0')]\n",
      "valid: [0.8232595732717803, tensor(0.8233, device='cuda:0')]\n",
      "train: [0.2216081306115905, tensor(0.2216, device='cuda:0')]\n",
      "valid: [0.8232006650982481, tensor(0.8232, device='cuda:0')]\n",
      "train: [0.21109487049615205, tensor(0.2111, device='cuda:0')]\n",
      "valid: [0.8243054939038825, tensor(0.8243, device='cuda:0')]\n",
      "train: [0.20099414426888992, tensor(0.2010, device='cuda:0')]\n",
      "valid: [0.823509170069839, tensor(0.8235, device='cuda:0')]\n",
      "train: [0.19110335164995335, tensor(0.1911, device='cuda:0')]\n",
      "valid: [0.8141603412050189, tensor(0.8142, device='cuda:0')]\n",
      "train: [0.18048908746064599, tensor(0.1805, device='cuda:0')]\n",
      "valid: [0.802680830522017, tensor(0.8027, device='cuda:0')]\n",
      "train: [0.1727340356627507, tensor(0.1727, device='cuda:0')]\n",
      "valid: [0.7926048510002367, tensor(0.7926, device='cuda:0')]\n",
      "train: [0.16587946877550722, tensor(0.1659, device='cuda:0')]\n",
      "valid: [0.790714980616714, tensor(0.7907, device='cuda:0')]\n",
      "train: [0.16027909463910914, tensor(0.1603, device='cuda:0')]\n",
      "valid: [0.7918339584812973, tensor(0.7918, device='cuda:0')]\n",
      "train: [0.15698335562179339, tensor(0.1570, device='cuda:0')]\n",
      "valid: [0.8030024672999526, tensor(0.8030, device='cuda:0')]\n",
      "train: [0.15467468944948112, tensor(0.1547, device='cuda:0')]\n",
      "valid: [0.7945441043738163, tensor(0.7945, device='cuda:0')]\n",
      "train: [0.1535089065779501, tensor(0.1535, device='cuda:0')]\n",
      "valid: [0.7805164683948863, tensor(0.7805, device='cuda:0')]\n",
      "train: [0.15286297015289763, tensor(0.1529, device='cuda:0')]\n",
      "valid: [0.760256865530303, tensor(0.7603, device='cuda:0')]\n",
      "train: [0.15216862692761776, tensor(0.1522, device='cuda:0')]\n",
      "valid: [0.7236330899325284, tensor(0.7236, device='cuda:0')]\n",
      "train: [0.15093669606678523, tensor(0.1509, device='cuda:0')]\n",
      "valid: [0.6680575746478457, tensor(0.6681, device='cuda:0')]\n",
      "train: [0.14897089716213852, tensor(0.1490, device='cuda:0')]\n",
      "valid: [0.600301337964607, tensor(0.6003, device='cuda:0')]\n",
      "train: [0.14644261829888644, tensor(0.1464, device='cuda:0')]\n",
      "valid: [0.5274549542051373, tensor(0.5275, device='cuda:0')]\n",
      "train: [0.14372345653932486, tensor(0.1437, device='cuda:0')]\n",
      "valid: [0.45199034719756154, tensor(0.4520, device='cuda:0')]\n",
      "train: [0.14147818266455806, tensor(0.1415, device='cuda:0')]\n",
      "valid: [0.38269435998165247, tensor(0.3827, device='cuda:0')]\n",
      "train: [0.13925995328533117, tensor(0.1393, device='cuda:0')]\n",
      "valid: [0.33020597515684186, tensor(0.3302, device='cuda:0')]\n",
      "train: [0.13696900552778102, tensor(0.1370, device='cuda:0')]\n",
      "valid: [0.2943705703272964, tensor(0.2944, device='cuda:0')]\n",
      "train: [0.1349835865533174, tensor(0.1350, device='cuda:0')]\n",
      "valid: [0.270105234781901, tensor(0.2701, device='cuda:0')]\n",
      "train: [0.1332999044389867, tensor(0.1333, device='cuda:0')]\n",
      "valid: [0.24753186774976327, tensor(0.2475, device='cuda:0')]\n",
      "train: [0.13188180496443563, tensor(0.1319, device='cuda:0')]\n",
      "valid: [0.22563578287760416, tensor(0.2256, device='cuda:0')]\n",
      "train: [0.13081729945851794, tensor(0.1308, device='cuda:0')]\n",
      "valid: [0.20928552800958808, tensor(0.2093, device='cuda:0')]\n",
      "train: [0.12985630320079292, tensor(0.1299, device='cuda:0')]\n",
      "valid: [0.1976542617335464, tensor(0.1977, device='cuda:0')]\n",
      "train: [0.12889064959625698, tensor(0.1289, device='cuda:0')]\n",
      "valid: [0.18940132603500828, tensor(0.1894, device='cuda:0')]\n",
      "train: [0.12795391936800374, tensor(0.1280, device='cuda:0')]\n",
      "valid: [0.18345689484567354, tensor(0.1835, device='cuda:0')]\n",
      "train: [0.1269266043136369, tensor(0.1269, device='cuda:0')]\n",
      "valid: [0.17635637919108074, tensor(0.1764, device='cuda:0')]\n",
      "train: [0.12586211019487523, tensor(0.1259, device='cuda:0')]\n",
      "valid: [0.1679780439897017, tensor(0.1680, device='cuda:0')]\n",
      "train: [0.1248564307369403, tensor(0.1249, device='cuda:0')]\n",
      "valid: [0.1605257207697088, tensor(0.1605, device='cuda:0')]\n",
      "train: [0.12384690242027169, tensor(0.1238, device='cuda:0')]\n",
      "valid: [0.15449975909608782, tensor(0.1545, device='cuda:0')]\n",
      "train: [0.12294705519035681, tensor(0.1229, device='cuda:0')]\n",
      "valid: [0.14910919883034446, tensor(0.1491, device='cuda:0')]\n",
      "train: [0.12207197502477846, tensor(0.1221, device='cuda:0')]\n",
      "valid: [0.1419905575838956, tensor(0.1420, device='cuda:0')]\n"
     ]
    },
    {
     "name": "stdout",
     "output_type": "stream",
     "text": [
      "train: [0.12124761325209889, tensor(0.1212, device='cuda:0')]\n",
      "valid: [0.1344592585708156, tensor(0.1345, device='cuda:0')]\n",
      "train: [0.12046565724842584, tensor(0.1205, device='cuda:0')]\n",
      "valid: [0.128823066480232, tensor(0.1288, device='cuda:0')]\n",
      "train: [0.1197063502980702, tensor(0.1197, device='cuda:0')]\n",
      "valid: [0.12507502237955728, tensor(0.1251, device='cuda:0')]\n",
      "train: [0.11904203500320662, tensor(0.1190, device='cuda:0')]\n",
      "valid: [0.12236567410555753, tensor(0.1224, device='cuda:0')]\n",
      "train: [0.11841471657824161, tensor(0.1184, device='cuda:0')]\n",
      "valid: [0.1203498955928918, tensor(0.1203, device='cuda:0')]\n",
      "train: [0.11786574178667211, tensor(0.1179, device='cuda:0')]\n",
      "valid: [0.11931900255607836, tensor(0.1193, device='cuda:0')]\n",
      "train: [0.11733383634197178, tensor(0.1173, device='cuda:0')]\n",
      "valid: [0.11881860675233784, tensor(0.1188, device='cuda:0')]\n",
      "train: [0.1168013501523146, tensor(0.1168, device='cuda:0')]\n",
      "valid: [0.11854471148866595, tensor(0.1185, device='cuda:0')]\n",
      "train: [0.11626548197732042, tensor(0.1163, device='cuda:0')]\n",
      "valid: [0.11834448612097538, tensor(0.1183, device='cuda:0')]\n",
      "train: [0.1157136376224347, tensor(0.1157, device='cuda:0')]\n",
      "valid: [0.11819566668886126, tensor(0.1182, device='cuda:0')]\n",
      "train: [0.11518178911351445, tensor(0.1152, device='cuda:0')]\n",
      "valid: [0.11811115380489465, tensor(0.1181, device='cuda:0')]\n",
      "train: [0.11467994576069845, tensor(0.1147, device='cuda:0')]\n",
      "valid: [0.1180911671031605, tensor(0.1181, device='cuda:0')]\n",
      "train: [0.11420330218414762, tensor(0.1142, device='cuda:0')]\n",
      "valid: [0.11808019695859967, tensor(0.1181, device='cuda:0')]\n",
      "train: [0.11377257162065649, tensor(0.1138, device='cuda:0')]\n",
      "valid: [0.11813286290024266, tensor(0.1181, device='cuda:0')]\n",
      "train: [0.1133552323526411, tensor(0.1134, device='cuda:0')]\n",
      "valid: [0.11852440111564867, tensor(0.1185, device='cuda:0')]\n",
      "train: [0.11297104109579058, tensor(0.1130, device='cuda:0')]\n",
      "valid: [0.11915676232540247, tensor(0.1192, device='cuda:0')]\n",
      "train: [0.1125937276811742, tensor(0.1126, device='cuda:0')]\n",
      "valid: [0.11958063299005682, tensor(0.1196, device='cuda:0')]\n",
      "train: [0.11223852812354244, tensor(0.1122, device='cuda:0')]\n",
      "valid: [0.11981021996700403, tensor(0.1198, device='cuda:0')]\n",
      "train: [0.11189035444117304, tensor(0.1119, device='cuda:0')]\n",
      "valid: [0.12031699671889796, tensor(0.1203, device='cuda:0')]\n",
      "train: [0.11155792919557486, tensor(0.1116, device='cuda:0')]\n",
      "valid: [0.12094849095200047, tensor(0.1209, device='cuda:0')]\n",
      "train: [0.11123299669863573, tensor(0.1112, device='cuda:0')]\n",
      "valid: [0.12106850363991477, tensor(0.1211, device='cuda:0')]\n",
      "train: [0.1109150559154909, tensor(0.1109, device='cuda:0')]\n",
      "valid: [0.12069874387798887, tensor(0.1207, device='cuda:0')]\n",
      "train: [0.11060551885348648, tensor(0.1106, device='cuda:0')]\n",
      "valid: [0.1202837626139323, tensor(0.1203, device='cuda:0')]\n",
      "train: [0.11029639172909865, tensor(0.1103, device='cuda:0')]\n",
      "valid: [0.11999738288648201, tensor(0.1200, device='cuda:0')]\n",
      "train: [0.11000058757725047, tensor(0.1100, device='cuda:0')]\n",
      "valid: [0.11947253834117542, tensor(0.1195, device='cuda:0')]\n",
      "train: [0.10970807431349114, tensor(0.1097, device='cuda:0')]\n",
      "valid: [0.11861734101266572, tensor(0.1186, device='cuda:0')]\n",
      "train: [0.10943084261310634, tensor(0.1094, device='cuda:0')]\n",
      "valid: [0.11780078772342566, tensor(0.1178, device='cuda:0')]\n",
      "train: [0.10916235624854244, tensor(0.1092, device='cuda:0')]\n",
      "valid: [0.11734701214414654, tensor(0.1173, device='cuda:0')]\n",
      "train: [0.10890691956477379, tensor(0.1089, device='cuda:0')]\n",
      "valid: [0.1171247540098248, tensor(0.1171, device='cuda:0')]\n",
      "train: [0.108658850370948, tensor(0.1087, device='cuda:0')]\n",
      "valid: [0.11685276609478575, tensor(0.1169, device='cuda:0')]\n",
      "train: [0.10841788676247668, tensor(0.1084, device='cuda:0')]\n",
      "valid: [0.11657187721946023, tensor(0.1166, device='cuda:0')]\n",
      "train: [0.10818037346227845, tensor(0.1082, device='cuda:0')]\n",
      "valid: [0.11669955398097183, tensor(0.1167, device='cuda:0')]\n",
      "train: [0.10794675456943796, tensor(0.1079, device='cuda:0')]\n",
      "valid: [0.11713981628417969, tensor(0.1171, device='cuda:0')]\n",
      "train: [0.10771418329495103, tensor(0.1077, device='cuda:0')]\n",
      "valid: [0.11741677486535275, tensor(0.1174, device='cuda:0')]\n",
      "train: [0.10748655404617537, tensor(0.1075, device='cuda:0')]\n",
      "valid: [0.11759570728648792, tensor(0.1176, device='cuda:0')]\n",
      "train: [0.10726133887447528, tensor(0.1073, device='cuda:0')]\n",
      "valid: [0.11816422433564157, tensor(0.1182, device='cuda:0')]\n",
      "train: [0.1070433887083139, tensor(0.1070, device='cuda:0')]\n",
      "valid: [0.11872320464163115, tensor(0.1187, device='cuda:0')]\n",
      "train: [0.10682901410914179, tensor(0.1068, device='cuda:0')]\n",
      "valid: [0.11890723488547585, tensor(0.1189, device='cuda:0')]\n",
      "train: [0.10662090244577892, tensor(0.1066, device='cuda:0')]\n",
      "valid: [0.11902623032078599, tensor(0.1190, device='cuda:0')]\n",
      "train: [0.1064162183163771, tensor(0.1064, device='cuda:0')]\n",
      "valid: [0.11942879647919626, tensor(0.1194, device='cuda:0')]\n",
      "train: [0.10621545136864506, tensor(0.1062, device='cuda:0')]\n",
      "valid: [0.11950773759321733, tensor(0.1195, device='cuda:0')]\n"
     ]
    },
    {
     "ename": "RuntimeError",
     "evalue": "CUDA error: device-side assert triggered",
     "output_type": "error",
     "traceback": [
      "\u001b[0;31m-----------------------------------------\u001b[0m",
      "\u001b[0;31mRuntimeError\u001b[0mTraceback (most recent call last)",
      "\u001b[0;32m<ipython-input-3-9f6c7a5f2687>\u001b[0m in \u001b[0;36m<module>\u001b[0;34m\u001b[0m\n\u001b[1;32m     28\u001b[0m     \u001b[0mconf\u001b[0m\u001b[0;34m.\u001b[0m\u001b[0mtree_depth\u001b[0m \u001b[0;34m=\u001b[0m \u001b[0;36m2\u001b[0m\u001b[0;34m*\u001b[0m\u001b[0mi\u001b[0m\u001b[0;34m\u001b[0m\u001b[0;34m\u001b[0m\u001b[0m\n\u001b[1;32m     29\u001b[0m     \u001b[0mlearn\u001b[0m \u001b[0;34m=\u001b[0m \u001b[0mmodel_conf\u001b[0m\u001b[0;34m.\u001b[0m\u001b[0mLearner\u001b[0m\u001b[0;34m(\u001b[0m\u001b[0;34m*\u001b[0m\u001b[0mmodel_conf\u001b[0m\u001b[0;34m.\u001b[0m\u001b[0mget_model\u001b[0m\u001b[0;34m(\u001b[0m\u001b[0mconf\u001b[0m\u001b[0;34m,\u001b[0m\u001b[0mdata\u001b[0m\u001b[0;34m)\u001b[0m\u001b[0;34m,\u001b[0m \u001b[0mloss_func\u001b[0m\u001b[0;34m,\u001b[0m \u001b[0mdata\u001b[0m\u001b[0;34m)\u001b[0m\u001b[0;34m\u001b[0m\u001b[0;34m\u001b[0m\u001b[0m\n\u001b[0;32m---> 30\u001b[0;31m     \u001b[0mrun\u001b[0m\u001b[0;34m.\u001b[0m\u001b[0mfit\u001b[0m\u001b[0;34m(\u001b[0m\u001b[0mconf\u001b[0m\u001b[0;34m.\u001b[0m\u001b[0mepochs\u001b[0m\u001b[0;34m,\u001b[0m \u001b[0mlearn\u001b[0m\u001b[0;34m)\u001b[0m\u001b[0;34m\u001b[0m\u001b[0;34m\u001b[0m\u001b[0m\n\u001b[0m\u001b[1;32m     31\u001b[0m     \u001b[0mzz\u001b[0m \u001b[0;34m=\u001b[0m \u001b[0mrun\u001b[0m\u001b[0;34m.\u001b[0m\u001b[0mrecorder\u001b[0m\u001b[0;34m.\u001b[0m\u001b[0mtot_pred\u001b[0m\u001b[0;34m.\u001b[0m\u001b[0mcpu\u001b[0m\u001b[0;34m(\u001b[0m\u001b[0;34m)\u001b[0m\u001b[0;34m.\u001b[0m\u001b[0mnumpy\u001b[0m\u001b[0;34m(\u001b[0m\u001b[0;34m)\u001b[0m\u001b[0;34m\u001b[0m\u001b[0;34m\u001b[0m\u001b[0m\n\u001b[1;32m     32\u001b[0m     \u001b[0mplt\u001b[0m\u001b[0;34m.\u001b[0m\u001b[0mscatter\u001b[0m\u001b[0;34m(\u001b[0m\u001b[0mxx\u001b[0m\u001b[0;34m,\u001b[0m \u001b[0mzz\u001b[0m\u001b[0;34m,\u001b[0m \u001b[0mmarker\u001b[0m\u001b[0;34m=\u001b[0m\u001b[0;34m'*'\u001b[0m\u001b[0;34m)\u001b[0m\u001b[0;34m\u001b[0m\u001b[0;34m\u001b[0m\u001b[0m\n",
      "\u001b[0;32m~/Documents/phd/code/rwf/trainer.py\u001b[0m in \u001b[0;36mfit\u001b[0;34m(self, epochs, learner)\u001b[0m\n\u001b[1;32m     81\u001b[0m         \u001b[0;32mexcept\u001b[0m \u001b[0mCancelTrainException\u001b[0m\u001b[0;34m:\u001b[0m \u001b[0mself\u001b[0m\u001b[0;34m(\u001b[0m\u001b[0;34m'after_cancel_train'\u001b[0m\u001b[0;34m)\u001b[0m\u001b[0;34m\u001b[0m\u001b[0;34m\u001b[0m\u001b[0m\n\u001b[1;32m     82\u001b[0m         \u001b[0;32mfinally\u001b[0m\u001b[0;34m:\u001b[0m\u001b[0;34m\u001b[0m\u001b[0;34m\u001b[0m\u001b[0m\n\u001b[0;32m---> 83\u001b[0;31m             \u001b[0mself\u001b[0m\u001b[0;34m(\u001b[0m\u001b[0;34m'after_fit'\u001b[0m\u001b[0;34m)\u001b[0m\u001b[0;34m\u001b[0m\u001b[0;34m\u001b[0m\u001b[0m\n\u001b[0m\u001b[1;32m     84\u001b[0m             \u001b[0mself\u001b[0m\u001b[0;34m.\u001b[0m\u001b[0mlearner\u001b[0m \u001b[0;34m=\u001b[0m \u001b[0;32mNone\u001b[0m\u001b[0;34m\u001b[0m\u001b[0;34m\u001b[0m\u001b[0m\n\u001b[1;32m     85\u001b[0m \u001b[0;34m\u001b[0m\u001b[0m\n",
      "\u001b[0;32m~/Documents/phd/code/rwf/trainer.py\u001b[0m in \u001b[0;36m__call__\u001b[0;34m(self, cb_name)\u001b[0m\n\u001b[1;32m     86\u001b[0m     \u001b[0;32mdef\u001b[0m \u001b[0m__call__\u001b[0m\u001b[0;34m(\u001b[0m\u001b[0mself\u001b[0m\u001b[0;34m,\u001b[0m \u001b[0mcb_name\u001b[0m\u001b[0;34m)\u001b[0m\u001b[0;34m:\u001b[0m\u001b[0;34m\u001b[0m\u001b[0;34m\u001b[0m\u001b[0m\n\u001b[1;32m     87\u001b[0m         \u001b[0mres\u001b[0m \u001b[0;34m=\u001b[0m \u001b[0;32mFalse\u001b[0m\u001b[0;34m\u001b[0m\u001b[0;34m\u001b[0m\u001b[0m\n\u001b[0;32m---> 88\u001b[0;31m         \u001b[0;32mfor\u001b[0m \u001b[0mcb\u001b[0m \u001b[0;32min\u001b[0m \u001b[0msorted\u001b[0m\u001b[0;34m(\u001b[0m\u001b[0mself\u001b[0m\u001b[0;34m.\u001b[0m\u001b[0mcbs\u001b[0m\u001b[0;34m,\u001b[0m \u001b[0mkey\u001b[0m\u001b[0;34m=\u001b[0m\u001b[0;32mlambda\u001b[0m \u001b[0mx\u001b[0m\u001b[0;34m:\u001b[0m \u001b[0mx\u001b[0m\u001b[0;34m.\u001b[0m\u001b[0m_order\u001b[0m\u001b[0;34m)\u001b[0m\u001b[0;34m:\u001b[0m \u001b[0mres\u001b[0m \u001b[0;34m=\u001b[0m \u001b[0mcb\u001b[0m\u001b[0;34m(\u001b[0m\u001b[0mcb_name\u001b[0m\u001b[0;34m)\u001b[0m \u001b[0;32mor\u001b[0m \u001b[0mres\u001b[0m\u001b[0;34m\u001b[0m\u001b[0;34m\u001b[0m\u001b[0m\n\u001b[0m\u001b[1;32m     89\u001b[0m         \u001b[0;32mreturn\u001b[0m \u001b[0mres\u001b[0m\u001b[0;34m\u001b[0m\u001b[0;34m\u001b[0m\u001b[0m\n",
      "\u001b[0;32m~/Documents/phd/code/rwf/callbacks.py\u001b[0m in \u001b[0;36m__call__\u001b[0;34m(self, cb_name)\u001b[0m\n\u001b[1;32m     20\u001b[0m     \u001b[0;32mdef\u001b[0m \u001b[0m__call__\u001b[0m\u001b[0;34m(\u001b[0m\u001b[0mself\u001b[0m\u001b[0;34m,\u001b[0m \u001b[0mcb_name\u001b[0m\u001b[0;34m)\u001b[0m\u001b[0;34m:\u001b[0m\u001b[0;34m\u001b[0m\u001b[0;34m\u001b[0m\u001b[0m\n\u001b[1;32m     21\u001b[0m         \u001b[0mf\u001b[0m \u001b[0;34m=\u001b[0m \u001b[0mgetattr\u001b[0m\u001b[0;34m(\u001b[0m\u001b[0mself\u001b[0m\u001b[0;34m,\u001b[0m \u001b[0mcb_name\u001b[0m\u001b[0;34m,\u001b[0m \u001b[0;32mNone\u001b[0m\u001b[0;34m)\u001b[0m\u001b[0;34m\u001b[0m\u001b[0;34m\u001b[0m\u001b[0m\n\u001b[0;32m---> 22\u001b[0;31m         \u001b[0;32mif\u001b[0m \u001b[0mf\u001b[0m \u001b[0;32mand\u001b[0m \u001b[0mf\u001b[0m\u001b[0;34m(\u001b[0m\u001b[0;34m)\u001b[0m\u001b[0;34m:\u001b[0m \u001b[0;32mreturn\u001b[0m \u001b[0;32mTrue\u001b[0m\u001b[0;34m\u001b[0m\u001b[0;34m\u001b[0m\u001b[0m\n\u001b[0m\u001b[1;32m     23\u001b[0m         \u001b[0;32mreturn\u001b[0m \u001b[0;32mFalse\u001b[0m\u001b[0;34m\u001b[0m\u001b[0;34m\u001b[0m\u001b[0m\n\u001b[1;32m     24\u001b[0m \u001b[0;34m\u001b[0m\u001b[0m\n",
      "\u001b[0;32m~/Documents/phd/code/rwf/callbacks.py\u001b[0m in \u001b[0;36mafter_fit\u001b[0;34m(self)\u001b[0m\n\u001b[1;32m     68\u001b[0m                 \u001b[0;31m# ########################end avg stats callback\u001b[0m\u001b[0;34m\u001b[0m\u001b[0;34m\u001b[0m\u001b[0;34m\u001b[0m\u001b[0m\n\u001b[1;32m     69\u001b[0m                 \u001b[0mself\u001b[0m\u001b[0;34m.\u001b[0m\u001b[0mpsi\u001b[0m\u001b[0;34m.\u001b[0m\u001b[0mcutoff_value\u001b[0m\u001b[0;34m=\u001b[0m\u001b[0;36m5\u001b[0m\u001b[0;34m*\u001b[0m\u001b[0mi\u001b[0m\u001b[0;34m\u001b[0m\u001b[0;34m\u001b[0m\u001b[0m\n\u001b[0;32m---> 70\u001b[0;31m                 \u001b[0mself\u001b[0m\u001b[0;34m.\u001b[0m\u001b[0mall_wavelet_batches\u001b[0m\u001b[0;34m(\u001b[0m\u001b[0mself\u001b[0m\u001b[0;34m.\u001b[0m\u001b[0mdata\u001b[0m\u001b[0;34m.\u001b[0m\u001b[0mvalid_dl\u001b[0m\u001b[0;34m,\u001b[0m\u001b[0mself\u001b[0m\u001b[0;34m)\u001b[0m\u001b[0;34m\u001b[0m\u001b[0;34m\u001b[0m\u001b[0m\n\u001b[0m\u001b[1;32m     71\u001b[0m \u001b[0;34m\u001b[0m\u001b[0m\n\u001b[1;32m     72\u001b[0m                 \u001b[0;31m# ########################avg stats callback\u001b[0m\u001b[0;34m\u001b[0m\u001b[0;34m\u001b[0m\u001b[0;34m\u001b[0m\u001b[0m\n",
      "\u001b[0;32m~/Documents/phd/code/rwf/callbacks.py\u001b[0m in \u001b[0;36mall_wavelet_batches\u001b[0;34m(self, dl, tree)\u001b[0m\n\u001b[1;32m     82\u001b[0m \u001b[0;34m\u001b[0m\u001b[0m\n\u001b[1;32m     83\u001b[0m         \u001b[0mself\u001b[0m\u001b[0;34m.\u001b[0m\u001b[0miters\u001b[0m \u001b[0;34m=\u001b[0m \u001b[0mlen\u001b[0m\u001b[0;34m(\u001b[0m\u001b[0mdl\u001b[0m\u001b[0;34m)\u001b[0m\u001b[0;34m\u001b[0m\u001b[0;34m\u001b[0m\u001b[0m\n\u001b[0;32m---> 84\u001b[0;31m         \u001b[0;32mfor\u001b[0m \u001b[0mi\u001b[0m\u001b[0;34m,\u001b[0m\u001b[0;34m[\u001b[0m\u001b[0m_\u001b[0m\u001b[0;34m,\u001b[0m\u001b[0myb\u001b[0m\u001b[0;34m]\u001b[0m \u001b[0;32min\u001b[0m \u001b[0menumerate\u001b[0m\u001b[0;34m(\u001b[0m\u001b[0mdl\u001b[0m\u001b[0;34m)\u001b[0m\u001b[0;34m:\u001b[0m \u001b[0mself\u001b[0m\u001b[0;34m.\u001b[0m\u001b[0mone_wavelet_batch\u001b[0m\u001b[0;34m(\u001b[0m\u001b[0mi\u001b[0m\u001b[0;34m,\u001b[0m\u001b[0myb\u001b[0m\u001b[0;34m,\u001b[0m\u001b[0mtree\u001b[0m\u001b[0;34m)\u001b[0m\u001b[0;34m\u001b[0m\u001b[0;34m\u001b[0m\u001b[0m\n\u001b[0m\u001b[1;32m     85\u001b[0m \u001b[0;34m\u001b[0m\u001b[0m\n\u001b[1;32m     86\u001b[0m         \u001b[0mself\u001b[0m\u001b[0;34m.\u001b[0m\u001b[0mtot_acc\u001b[0m \u001b[0;34m=\u001b[0m \u001b[0mself\u001b[0m\u001b[0;34m.\u001b[0m\u001b[0mtot_acc\u001b[0m\u001b[0;34m/\u001b[0m\u001b[0mself\u001b[0m\u001b[0;34m.\u001b[0m\u001b[0mtot_samples\u001b[0m\u001b[0;34m\u001b[0m\u001b[0;34m\u001b[0m\u001b[0m\n",
      "\u001b[0;32m~/Documents/phd/code/rwf/callbacks.py\u001b[0m in \u001b[0;36mone_wavelet_batch\u001b[0;34m(self, i, yb, tree)\u001b[0m\n\u001b[1;32m     92\u001b[0m         \u001b[0mself\u001b[0m\u001b[0;34m.\u001b[0m\u001b[0mnu\u001b[0m  \u001b[0;34m=\u001b[0m \u001b[0mself\u001b[0m\u001b[0;34m.\u001b[0m\u001b[0mmu\u001b[0m\u001b[0;34m[\u001b[0m\u001b[0;34m:\u001b[0m\u001b[0;34m,\u001b[0m\u001b[0mleaf_list\u001b[0m\u001b[0;34m]\u001b[0m\u001b[0;34m\u001b[0m\u001b[0;34m\u001b[0m\u001b[0m\n\u001b[1;32m     93\u001b[0m         \u001b[0mN\u001b[0m \u001b[0;34m=\u001b[0m \u001b[0mself\u001b[0m\u001b[0;34m.\u001b[0m\u001b[0mnu\u001b[0m\u001b[0;34m.\u001b[0m\u001b[0msum\u001b[0m\u001b[0;34m(\u001b[0m\u001b[0;36m0\u001b[0m\u001b[0;34m)\u001b[0m\u001b[0;34m\u001b[0m\u001b[0;34m\u001b[0m\u001b[0m\n\u001b[0;32m---> 94\u001b[0;31m         \u001b[0mself\u001b[0m\u001b[0;34m.\u001b[0m\u001b[0mpred\u001b[0m \u001b[0;34m=\u001b[0m \u001b[0mself\u001b[0m\u001b[0;34m.\u001b[0m\u001b[0mnu\u001b[0m \u001b[0;34m@\u001b[0m \u001b[0mself\u001b[0m\u001b[0;34m.\u001b[0m\u001b[0my_hat\u001b[0m\u001b[0;34m[\u001b[0m\u001b[0mleaf_list\u001b[0m\u001b[0;34m]\u001b[0m\u001b[0;34m\u001b[0m\u001b[0;34m\u001b[0m\u001b[0m\n\u001b[0m\u001b[1;32m     95\u001b[0m         \u001b[0mself\u001b[0m\u001b[0;34m.\u001b[0m\u001b[0mloss\u001b[0m \u001b[0;34m=\u001b[0m \u001b[0mfloat\u001b[0m\u001b[0;34m(\u001b[0m\u001b[0mself\u001b[0m\u001b[0;34m.\u001b[0m\u001b[0mloss_func\u001b[0m\u001b[0;34m(\u001b[0m\u001b[0mself\u001b[0m\u001b[0;34m.\u001b[0m\u001b[0mpred\u001b[0m\u001b[0;34m,\u001b[0m \u001b[0myb\u001b[0m\u001b[0;34m)\u001b[0m\u001b[0;34m)\u001b[0m\u001b[0;34m\u001b[0m\u001b[0;34m\u001b[0m\u001b[0m\n\u001b[1;32m     96\u001b[0m         \u001b[0mself\u001b[0m\u001b[0;34m.\u001b[0m\u001b[0mtot_loss\u001b[0m \u001b[0;34m+=\u001b[0m \u001b[0mself\u001b[0m\u001b[0;34m.\u001b[0m\u001b[0mloss\u001b[0m\u001b[0;34m*\u001b[0m\u001b[0myb\u001b[0m\u001b[0;34m.\u001b[0m\u001b[0msize\u001b[0m\u001b[0;34m(\u001b[0m\u001b[0;36m0\u001b[0m\u001b[0;34m)\u001b[0m\u001b[0;34m\u001b[0m\u001b[0;34m\u001b[0m\u001b[0m\n",
      "\u001b[0;31mRuntimeError\u001b[0m: CUDA error: device-side assert triggered"
     ]
    },
    {
     "data": {
      "image/png": "[encoded data removed]",
      "text/plain": [
       "<Figure size 432x288 with 1 Axes>"
      ]
     },
     "metadata": {
      "needs_background": "light"
     },
     "output_type": "display_data"
    }
   ],
   "source": [
    "xx = learn.data.valid_dl.ds.x.numpy()\n",
    "yy = learn.data.valid_dl.ds.y.numpy()\n",
    "plt.scatter(xx, yy, marker='^')\n",
    "\n",
    "for i in range(2,7):\n",
    "    conf.tree_depth = 2*i\n",
    "    learn = model_conf.Learner(*model_conf.get_model(conf,data), loss_func, data)\n",
    "    run.fit(conf.epochs, learn)\n",
    "    zz = run.recorder.tot_pred.cpu().numpy()\n",
    "    plt.scatter(xx, zz, marker='*')\n",
    "\n",
    "plt.show()"
   ]
  },
  {
   "cell_type": "code",
   "execution_count": null,
   "metadata": {
    "scrolled": true
   },
   "outputs": [],
   "source": [
    "from func_gen import *\n",
    "import sklearn\n",
    "import torch\n",
    "from params import parameters\n",
    "import model_conf\n",
    "import dataset_loader\n",
    "import trainer\n",
    "\n",
    "conf = parameters()\n",
    "conf.epochs = 100\n",
    "conf.tree_depth = 15\n",
    "conf.one_batch = True\n",
    "x,y = step_gen(range = (0,100),step=0.1)\n",
    "tdl,vdl = dl_maker(x,y,conf)\n",
    "data = dataset_loader.DataBunch(tdl,vdl,c=1,features4tree=1)\n",
    "\n",
    "loss_func =  torch.nn.MSELoss()\n",
    "\n",
    "learn = model_conf.Learner(*model_conf.get_model(conf,data), loss_func, data)\n",
    "\n",
    "device = torch.device('cuda',0)\n",
    "torch.cuda.set_device(device)\n",
    "\n",
    "run = trainer.Runner(cb_funcs=conf.cbfs)\n",
    "run.fit(conf.epochs, learn)"
   ]
  },
  {
   "cell_type": "code",
   "execution_count": null,
   "metadata": {},
   "outputs": [],
   "source": [
    "import matplotlib.pyplot as plt\n",
    "mu = run.mu\n",
    "y_hat = run.y_hat\n",
    "arg_mu = torch.argmax(mu, dim=1).cpu().numpy()\n",
    "uni_mu = np.unique(arg_mu)\n",
    "yh = y_hat[arg_mu].detach().cpu().numpy()\n",
    "yh_orig = y_hat.detach().cpu().numpy()\n",
    "plt.hist(arg_mu,bins=30)\n",
    "\n",
    "uni_mu_dist = mu[:,uni_mu].cpu().numpy()\n",
    "\n",
    "xx = learn.data.valid_dl.ds.x.numpy()\n",
    "yy = learn.data.valid_dl.ds.y.numpy()\n",
    "zz = run.recorder.tot_pred.cpu().numpy()\n",
    "\n",
    "plt.scatter(xx, yh, marker='^')\n",
    "plt.scatter(xx, yy, marker='*')\n",
    "plt.scatter(xx, zz, marker='o')\n",
    "plt.show()\n",
    "\n",
    "for i in range(6):\n",
    "    plt.scatter(xx, uni_mu_dist.T[i], marker='^')\n",
    "\n",
    "plt.show()"
   ]
  },
  {
   "cell_type": "markdown",
   "metadata": {},
   "source": [
    "### Loss vs. No. of batch iterations:"
   ]
  },
  {
   "cell_type": "code",
   "execution_count": null,
   "metadata": {
    "scrolled": true
   },
   "outputs": [],
   "source": [
    "run.recorder.plot_loss()"
   ]
  },
  {
   "cell_type": "code",
   "execution_count": null,
   "metadata": {},
   "outputs": [],
   "source": [
    "import matplotlib.pyplot as plt\n",
    "import numpy as np\n",
    "\n",
    "xx = learn.data.valid_dl.ds.x.numpy()\n",
    "yy = learn.data.valid_dl.ds.y.numpy()\n",
    "zz = run.recorder.tot_pred.cpu().numpy()\n",
    "\n",
    "plt.scatter(xx, yy, marker='^')\n",
    "plt.scatter(xx, zz, marker='*')\n",
    "\n",
    "plt.show()"
   ]
  },
  {
   "cell_type": "code",
   "execution_count": null,
   "metadata": {
    "scrolled": true
   },
   "outputs": [],
   "source": [
    "conf.epochs = 100\n",
    "conf.one_batch = False\n",
    "tdl,vdl = dl_maker(x,y,conf)\n",
    "data = dataset_loader.DataBunch(tdl,vdl,c=1,features4tree=1)\n",
    "\n",
    "loss_func =  torch.nn.MSELoss()\n",
    "\n",
    "learn = model_conf.Learner(*model_conf.get_model(conf,data), loss_func, data)\n",
    "\n",
    "device = torch.device('cuda',0)\n",
    "torch.cuda.set_device(device)\n",
    "\n",
    "run = trainer.Runner(cb_funcs=conf.cbfs)\n",
    "run.fit(conf.epochs, learn)"
   ]
  },
  {
   "cell_type": "code",
   "execution_count": null,
   "metadata": {},
   "outputs": [],
   "source": [
    "run.recorder.plot_loss()"
   ]
  },
  {
   "cell_type": "code",
   "execution_count": null,
   "metadata": {},
   "outputs": [],
   "source": [
    "import matplotlib.pyplot as plt\n",
    "import numpy as np\n",
    "\n",
    "xx = learn.data.valid_dl.ds.x.numpy()\n",
    "yy = learn.data.valid_dl.ds.y.numpy()\n",
    "zz = run.recorder.tot_pred.cpu().numpy()\n",
    "\n",
    "plt.scatter(xx, yy, marker='^')\n",
    "plt.scatter(xx, zz, marker='*')\n",
    "\n",
    "plt.show()"
   ]
  },
  {
   "cell_type": "markdown",
   "metadata": {},
   "source": [
    "### Fitting a sine function over 100 iterations:"
   ]
  },
  {
   "cell_type": "code",
   "execution_count": null,
   "metadata": {},
   "outputs": [],
   "source": [
    "import matplotlib.pyplot as plt\n",
    "import numpy as np\n",
    "\n",
    "xx = learn.data.valid_dl.ds.x.numpy()\n",
    "yy = learn.data.valid_dl.ds.y.numpy()\n",
    "zz = run.recorder.tot_pred.cpu().numpy()\n",
    "\n",
    "plt.scatter(xx, yy, marker='^')\n",
    "plt.scatter(xx, zz, marker='*')\n",
    "\n",
    "plt.show()"
   ]
  },
  {
   "cell_type": "code",
   "execution_count": null,
   "metadata": {},
   "outputs": [],
   "source": [
    "# conf.epochs = 1000\n",
    "# run.fit(conf.epochs, learn)\n",
    "\n",
    "# import matplotlib.pyplot as plt\n",
    "# import numpy as np\n",
    "\n",
    "# xx = learn.data.valid_dl.ds.x.numpy()\n",
    "# yy = learn.data.valid_dl.ds.y.numpy()\n",
    "# zz = run.recorder.tot_pred.cpu().numpy()\n",
    "\n",
    "# plt.scatter(xx, yy, marker='^')\n",
    "# plt.scatter(xx, zz, marker='*')\n",
    "\n",
    "# plt.show()"
   ]
  },
  {
   "cell_type": "code",
   "execution_count": null,
   "metadata": {},
   "outputs": [],
   "source": [
    "conf.epochs = 100"
   ]
  },
  {
   "cell_type": "code",
   "execution_count": null,
   "metadata": {},
   "outputs": [],
   "source": [
    "mu = run.mu\n",
    "y_hat = run.y_hat"
   ]
  },
  {
   "cell_type": "code",
   "execution_count": null,
   "metadata": {
    "scrolled": true
   },
   "outputs": [],
   "source": [
    "arg_mu = torch.argmax(mu, dim=1).cpu().numpy()\n",
    "uni_mu = np.unique(arg_mu)\n",
    "arg_mu"
   ]
  },
  {
   "cell_type": "code",
   "execution_count": null,
   "metadata": {
    "scrolled": true
   },
   "outputs": [],
   "source": [
    "arg_mu"
   ]
  },
  {
   "cell_type": "markdown",
   "metadata": {},
   "source": [
    "### Distribution of most popular leafs:"
   ]
  },
  {
   "cell_type": "code",
   "execution_count": null,
   "metadata": {},
   "outputs": [],
   "source": [
    "plt.hist(arg_mu,bins=30)"
   ]
  },
  {
   "cell_type": "markdown",
   "metadata": {},
   "source": [
    "### values of most popular leafs:"
   ]
  },
  {
   "cell_type": "code",
   "execution_count": null,
   "metadata": {},
   "outputs": [],
   "source": [
    "yh_orig[uni_mu]"
   ]
  },
  {
   "cell_type": "code",
   "execution_count": null,
   "metadata": {},
   "outputs": [],
   "source": [
    "yh = y_hat[arg_mu].detach().cpu().numpy()\n",
    "yh_orig = y_hat.detach().cpu().numpy()"
   ]
  },
  {
   "cell_type": "markdown",
   "metadata": {},
   "source": [
    "### Value of samples by most popular leaf:"
   ]
  },
  {
   "cell_type": "code",
   "execution_count": null,
   "metadata": {
    "scrolled": true
   },
   "outputs": [],
   "source": [
    "plt.scatter(xx, yh, marker='^')\n",
    "plt.scatter(xx, yy, marker='*')\n",
    "plt.scatter(xx, zz, marker='o')\n",
    "plt.show()"
   ]
  },
  {
   "cell_type": "code",
   "execution_count": null,
   "metadata": {},
   "outputs": [],
   "source": [
    "conf.epochs = 100\n",
    "conf.tree_depth = 20\n",
    "\n",
    "learn = model_conf.Learner(*model_conf.get_model(conf,data), loss_func, data)\n",
    "\n",
    "run.fit(conf.epochs, learn)\n",
    "\n",
    "import matplotlib.pyplot as plt\n",
    "import numpy as np\n",
    "\n",
    "xx = learn.data.valid_dl.ds.x.numpy()\n",
    "yy = learn.data.valid_dl.ds.y.numpy()\n",
    "zz = run.recorder.tot_pred.cpu().numpy()\n",
    "\n",
    "plt.scatter(xx, yy, marker='^')\n",
    "plt.scatter(xx, zz, marker='*')\n",
    "\n",
    "plt.show()"
   ]
  },
  {
   "cell_type": "code",
   "execution_count": null,
   "metadata": {},
   "outputs": [],
   "source": [
    "uni_mu"
   ]
  },
  {
   "cell_type": "code",
   "execution_count": null,
   "metadata": {},
   "outputs": [],
   "source": [
    "uni_mu_dist = mu[:,uni_mu].cpu().numpy()"
   ]
  },
  {
   "cell_type": "code",
   "execution_count": null,
   "metadata": {},
   "outputs": [],
   "source": [
    "uni_mu_dist.T"
   ]
  },
  {
   "cell_type": "markdown",
   "metadata": {},
   "source": [
    "### Distribution of most popular nodes over all samples:"
   ]
  },
  {
   "cell_type": "code",
   "execution_count": null,
   "metadata": {
    "scrolled": true
   },
   "outputs": [],
   "source": [
    "for i in range(4):\n",
    "    plt.scatter(xx, uni_mu_dist.T[i], marker='^')\n",
    "\n",
    "plt.show()"
   ]
  },
  {
   "cell_type": "code",
   "execution_count": null,
   "metadata": {},
   "outputs": [],
   "source": [
    "mu.size()"
   ]
  },
  {
   "cell_type": "code",
   "execution_count": null,
   "metadata": {},
   "outputs": [],
   "source": [
    "len(yh_orig)"
   ]
  },
  {
   "cell_type": "markdown",
   "metadata": {},
   "source": [
    "### Distribution of arbitrary samples over nodes:"
   ]
  },
  {
   "cell_type": "code",
   "execution_count": null,
   "metadata": {
    "scrolled": true
   },
   "outputs": [],
   "source": [
    "for i in range(10):\n",
    "    j = i*33\n",
    "    plt.scatter(j+100*mu[i*33,:].cpu().numpy(),np.arange(0,64), marker='*')\n",
    "\n",
    "plt.show()"
   ]
  },
  {
   "cell_type": "markdown",
   "metadata": {},
   "source": [
    "### Value of nodes of arbitrary samples vs. probability:"
   ]
  },
  {
   "cell_type": "code",
   "execution_count": null,
   "metadata": {},
   "outputs": [],
   "source": [
    "for i in range(10):\n",
    "    j = i*33\n",
    "    plt.scatter(mu[i*33,:].cpu().numpy(),yh_orig, marker='*')\n",
    "\n",
    "plt.show()"
   ]
  },
  {
   "cell_type": "code",
   "execution_count": null,
   "metadata": {},
   "outputs": [],
   "source": [
    "plt.scatter(xx, yh, marker='^')\n",
    "plt.scatter(xx, yy, marker='*')\n",
    "plt.scatter(xx, zz, marker='o')\n",
    "plt.show()"
   ]
  },
  {
   "cell_type": "code",
   "execution_count": null,
   "metadata": {},
   "outputs": [],
   "source": []
  }
 ],
 "metadata": {
  "kernelspec": {
   "display_name": "Python 3",
   "language": "python",
   "name": "python3"
  },
  "language_info": {
   "codemirror_mode": {
    "name": "ipython",
    "version": 3
   },
   "file_extension": ".py",
   "mimetype": "text/x-python",
   "name": "python",
   "nbconvert_exporter": "python",
   "pygments_lexer": "ipython3",
   "version": "3.7.3"
  }
 },
 "nbformat": 4,
 "nbformat_minor": 2
}
